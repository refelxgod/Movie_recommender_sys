{
  "nbformat": 4,
  "nbformat_minor": 0,
  "metadata": {
    "colab": {
      "provenance": [],
      "gpuType": "T4",
      "authorship_tag": "ABX9TyMC2/TnkGoJUv0vlVFx9LMJ",
      "include_colab_link": true
    },
    "kernelspec": {
      "name": "python3",
      "display_name": "Python 3"
    },
    "language_info": {
      "name": "python"
    },
    "accelerator": "GPU"
  },
  "cells": [
    {
      "cell_type": "markdown",
      "metadata": {
        "id": "view-in-github",
        "colab_type": "text"
      },
      "source": [
        "<a href=\"https://colab.research.google.com/github/refelxgod/Movie_recommender_sys/blob/main/Final_code.ipynb\" target=\"_parent\"><img src=\"https://colab.research.google.com/assets/colab-badge.svg\" alt=\"Open In Colab\"/></a>"
      ]
    },
    {
      "cell_type": "code",
      "source": [
        "!wget http://nlp.stanford.edu/data/glove.6B.zip"
      ],
      "metadata": {
        "colab": {
          "base_uri": "https://localhost:8080/"
        },
        "id": "IoNVEJqzNxJ6",
        "outputId": "794920af-783e-46da-fc42-3ae1bec00002"
      },
      "execution_count": null,
      "outputs": [
        {
          "output_type": "stream",
          "name": "stdout",
          "text": [
            "--2024-05-05 19:24:39--  http://nlp.stanford.edu/data/glove.6B.zip\n",
            "Resolving nlp.stanford.edu (nlp.stanford.edu)... 171.64.67.140\n",
            "Connecting to nlp.stanford.edu (nlp.stanford.edu)|171.64.67.140|:80... connected.\n",
            "HTTP request sent, awaiting response... 302 Found\n",
            "Location: https://nlp.stanford.edu/data/glove.6B.zip [following]\n",
            "--2024-05-05 19:24:39--  https://nlp.stanford.edu/data/glove.6B.zip\n",
            "Connecting to nlp.stanford.edu (nlp.stanford.edu)|171.64.67.140|:443... connected.\n",
            "HTTP request sent, awaiting response... 301 Moved Permanently\n",
            "Location: https://downloads.cs.stanford.edu/nlp/data/glove.6B.zip [following]\n",
            "--2024-05-05 19:24:39--  https://downloads.cs.stanford.edu/nlp/data/glove.6B.zip\n",
            "Resolving downloads.cs.stanford.edu (downloads.cs.stanford.edu)... 171.64.64.22\n",
            "Connecting to downloads.cs.stanford.edu (downloads.cs.stanford.edu)|171.64.64.22|:443... connected.\n",
            "HTTP request sent, awaiting response... 200 OK\n",
            "Length: 862182613 (822M) [application/zip]\n",
            "Saving to: ‘glove.6B.zip’\n",
            "\n",
            "glove.6B.zip        100%[===================>] 822.24M  5.00MB/s    in 2m 39s  \n",
            "\n",
            "2024-05-05 19:27:18 (5.17 MB/s) - ‘glove.6B.zip’ saved [862182613/862182613]\n",
            "\n"
          ]
        }
      ]
    },
    {
      "cell_type": "code",
      "source": [
        "!unzip glove*.zip"
      ],
      "metadata": {
        "colab": {
          "base_uri": "https://localhost:8080/"
        },
        "id": "FnkpkObuOUdB",
        "outputId": "392fd193-387e-486a-c7e8-efa035a66382"
      },
      "execution_count": null,
      "outputs": [
        {
          "output_type": "stream",
          "name": "stdout",
          "text": [
            "Archive:  glove.6B.zip\n",
            "  inflating: glove.6B.50d.txt        \n",
            "  inflating: glove.6B.100d.txt       \n",
            "  inflating: glove.6B.200d.txt       \n",
            "  inflating: glove.6B.300d.txt       \n"
          ]
        }
      ]
    },
    {
      "cell_type": "code",
      "source": [
        "!ls\n",
        "!pwd"
      ],
      "metadata": {
        "colab": {
          "base_uri": "https://localhost:8080/"
        },
        "id": "wMddMGmGOhNc",
        "outputId": "ed5fba7c-22e7-4820-887d-cd3c0d1d2940"
      },
      "execution_count": null,
      "outputs": [
        {
          "output_type": "stream",
          "name": "stdout",
          "text": [
            "clean_d_tweets.csv\tglove.6B.100d.txt  glove.6B.300d.txt  glove.6B.zip\n",
            "clean_non_d_tweets.csv\tglove.6B.200d.txt  glove.6B.50d.txt   sample_data\n",
            "/content\n"
          ]
        }
      ]
    },
    {
      "cell_type": "markdown",
      "source": [
        "LSTM used"
      ],
      "metadata": {
        "id": "qE5xajQ3Q_Vj"
      }
    },
    {
      "cell_type": "markdown",
      "source": [
        "Importing libraries"
      ],
      "metadata": {
        "id": "lbtmfji4aieK"
      }
    },
    {
      "cell_type": "code",
      "source": [
        "import pandas as pd\n",
        "import numpy as np\n",
        "import tensorflow as tf\n",
        "import re\n",
        "from sklearn.model_selection import train_test_split\n",
        "from tensorflow.keras.preprocessing.text import Tokenizer\n",
        "from tensorflow.keras.preprocessing.sequence import pad_sequences\n",
        "from tensorflow.keras.utils import to_categorical\n",
        "from tensorflow.keras.models import Sequential\n",
        "from tensorflow.keras.layers import Embedding, LSTM, Dense"
      ],
      "metadata": {
        "id": "HhX3KWCWanfi"
      },
      "execution_count": null,
      "outputs": []
    },
    {
      "cell_type": "markdown",
      "source": [
        "Load the datasets"
      ],
      "metadata": {
        "id": "S4244QlmapuA"
      }
    },
    {
      "cell_type": "code",
      "source": [
        "depressed_tweets = pd.read_csv('/content/clean_d_tweets.csv')\n",
        "non_depressed_tweets = pd.read_csv('/content/clean_non_d_tweets.csv')\n"
      ],
      "metadata": {
        "id": "eHUopd8Has77"
      },
      "execution_count": null,
      "outputs": []
    },
    {
      "cell_type": "markdown",
      "source": [
        "Combine the datasets"
      ],
      "metadata": {
        "id": "Et2UA5l4avZr"
      }
    },
    {
      "cell_type": "code",
      "source": [
        "df = pd.concat([depressed_tweets, non_depressed_tweets])\n"
      ],
      "metadata": {
        "id": "vQjYrVquayBi"
      },
      "execution_count": null,
      "outputs": []
    },
    {
      "cell_type": "markdown",
      "source": [
        "Create a column for the labels"
      ],
      "metadata": {
        "id": "TfjAK7d8a0VT"
      }
    },
    {
      "cell_type": "code",
      "source": [
        "df['label'] = np.where(df['tweet'].isin(depressed_tweets['tweet']), 1, 0)"
      ],
      "metadata": {
        "id": "k2O00TXNa2id"
      },
      "execution_count": null,
      "outputs": []
    },
    {
      "cell_type": "markdown",
      "source": [
        "Preprocess the tweets"
      ],
      "metadata": {
        "id": "pvXxhRsra7n5"
      }
    },
    {
      "cell_type": "code",
      "source": [
        "def clean_tweets(text):\n",
        "    if isinstance(text, str):  # Check if the value is a string\n",
        "        text = re.sub(r'[^A-Za-z0-9\\\\s]', '', text.lower())\n",
        "    else:\n",
        "        text = str(text)  # Convert non-string values to strings\n",
        "    return text\n",
        "\n",
        "df['tweet'] = df['tweet'].apply(clean_tweets)\n",
        "\n",
        "df['tweet'] = df['tweet'].apply(clean_tweets)"
      ],
      "metadata": {
        "id": "tz7wag8Ja9ba"
      },
      "execution_count": null,
      "outputs": []
    },
    {
      "cell_type": "markdown",
      "source": [
        "Split the data into training and testing sets"
      ],
      "metadata": {
        "id": "jhYPVqkibBde"
      }
    },
    {
      "cell_type": "code",
      "source": [
        "train_text, val_text, train_labels, val_labels = train_test_split(df['tweet'].to_numpy(), df['label'].to_numpy(), test_size=0.2, random_state=42)\n"
      ],
      "metadata": {
        "id": "Czi93LH4bDMv"
      },
      "execution_count": null,
      "outputs": []
    },
    {
      "cell_type": "markdown",
      "source": [
        "Create a tokenizer to split the text into words"
      ],
      "metadata": {
        "id": "86KqbpbxbHzC"
      }
    },
    {
      "cell_type": "code",
      "source": [
        "tokenizer = Tokenizer(num_words=3000)\n",
        "tokenizer.fit_on_texts(train_text)\n",
        "\n",
        "train_sequences = tokenizer.texts_to_sequences(train_text)\n",
        "val_sequences = tokenizer.texts_to_sequences(val_text)"
      ],
      "metadata": {
        "id": "btruYOcvbMHa"
      },
      "execution_count": null,
      "outputs": []
    },
    {
      "cell_type": "markdown",
      "source": [
        "Pad the sequences to have the same length"
      ],
      "metadata": {
        "id": "0Hr1Zs3XbRn4"
      }
    },
    {
      "cell_type": "code",
      "source": [
        "max_length = 200\n",
        "padded_train = pad_sequences(train_sequences, maxlen=max_length)\n",
        "padded_val = pad_sequences(val_sequences, maxlen=max_length)"
      ],
      "metadata": {
        "id": "wVj6Xs1lbUfz"
      },
      "execution_count": null,
      "outputs": []
    },
    {
      "cell_type": "markdown",
      "source": [
        "One-hot encode the labels"
      ],
      "metadata": {
        "id": "7qzsHkYmbXKM"
      }
    },
    {
      "cell_type": "code",
      "source": [
        "num_classes = 2\n",
        "train_labels_onehot = to_categorical(train_labels, num_classes)\n",
        "val_labels_onehot = to_categorical(val_labels, num_classes)"
      ],
      "metadata": {
        "id": "insEvnSYbXz3"
      },
      "execution_count": null,
      "outputs": []
    },
    {
      "cell_type": "markdown",
      "source": [
        "Load the pre-trained GloVe word embeddings"
      ],
      "metadata": {
        "id": "e7XKhiTDbaiB"
      }
    },
    {
      "cell_type": "code",
      "source": [
        "glove_file = '/content/glove.6B.300d.txt'\n",
        "embeddings_index = {}\n",
        "with open(glove_file, 'r') as f:\n",
        "    for line in f:\n",
        "        values = line.split()\n",
        "        word = values[0]\n",
        "        coefs = np.asarray(values[1:], dtype='float32')\n",
        "        embeddings_index[word] = coefs"
      ],
      "metadata": {
        "id": "PZ8xnOo3bdcW"
      },
      "execution_count": null,
      "outputs": []
    },
    {
      "cell_type": "markdown",
      "source": [
        "Create the embedding matrix"
      ],
      "metadata": {
        "id": "_3xmw6yLbhQT"
      }
    },
    {
      "cell_type": "code",
      "source": [
        "embedding_matrix = np.zeros((3000, 300))\n",
        "for word, i in tokenizer.word_index.items():\n",
        "    if i < 3000:\n",
        "        embedding_vector = embeddings_index.get(word)\n",
        "        if embedding_vector is not None:\n",
        "            embedding_matrix[i] = embedding_vector"
      ],
      "metadata": {
        "id": "D5YLzSdXbkEm"
      },
      "execution_count": null,
      "outputs": []
    },
    {
      "cell_type": "markdown",
      "source": [
        "Define the LSTM model"
      ],
      "metadata": {
        "id": "HxgJ6kGQbpY5"
      }
    },
    {
      "cell_type": "code",
      "source": [
        "model = Sequential()\n",
        "model.add(Embedding(input_dim=3000, output_dim=300, input_length=max_length, weights=[embedding_matrix], trainable=False))\n",
        "model.add(LSTM(units=128, dropout=0.2, recurrent_dropout=0.2))\n",
        "model.add(Dense(num_classes, activation='softmax'))"
      ],
      "metadata": {
        "colab": {
          "base_uri": "https://localhost:8080/"
        },
        "id": "Sdct7KbsbqYb",
        "outputId": "0237c87e-abe1-4841-b491-cdeb41fb74c8"
      },
      "execution_count": null,
      "outputs": [
        {
          "output_type": "stream",
          "name": "stderr",
          "text": [
            "WARNING:tensorflow:Layer lstm_3 will not use cuDNN kernels since it doesn't meet the criteria. It will use a generic GPU kernel as fallback when running on GPU.\n"
          ]
        }
      ]
    },
    {
      "cell_type": "markdown",
      "source": [
        "Compile the model"
      ],
      "metadata": {
        "id": "K06r4Sjybu7i"
      }
    },
    {
      "cell_type": "code",
      "source": [
        "model.compile(loss='categorical_crossentropy', optimizer='adam', metrics=['accuracy'])"
      ],
      "metadata": {
        "id": "qk7fn9Rxbv0z"
      },
      "execution_count": null,
      "outputs": []
    },
    {
      "cell_type": "markdown",
      "source": [
        "Train the model"
      ],
      "metadata": {
        "id": "i8b0cTGyb0E0"
      }
    },
    {
      "cell_type": "code",
      "source": [
        "batch_size = 500\n",
        "epochs = 25\n",
        "history = model.fit(padded_train, train_labels_onehot, batch_size=batch_size, epochs=epochs, validation_data=(padded_val, val_labels_onehot))\n"
      ],
      "metadata": {
        "colab": {
          "base_uri": "https://localhost:8080/"
        },
        "id": "_NRTNIYcb09c",
        "outputId": "fbdd2a45-65bc-4440-b9c5-d2ea4292a0f2"
      },
      "execution_count": null,
      "outputs": [
        {
          "output_type": "stream",
          "name": "stdout",
          "text": [
            "Epoch 1/25\n",
            "13/13 [==============================] - 11s 625ms/step - loss: 0.6779 - accuracy: 0.6069 - val_loss: 0.6747 - val_accuracy: 0.5940\n",
            "Epoch 2/25\n",
            "13/13 [==============================] - 14s 1s/step - loss: 0.6708 - accuracy: 0.6087 - val_loss: 0.6738 - val_accuracy: 0.5940\n",
            "Epoch 3/25\n",
            "13/13 [==============================] - 7s 560ms/step - loss: 0.6681 - accuracy: 0.6088 - val_loss: 0.6744 - val_accuracy: 0.5940\n",
            "Epoch 4/25\n",
            "13/13 [==============================] - 14s 1s/step - loss: 0.6671 - accuracy: 0.6088 - val_loss: 0.6738 - val_accuracy: 0.5940\n",
            "Epoch 5/25\n",
            "13/13 [==============================] - 8s 552ms/step - loss: 0.6672 - accuracy: 0.6090 - val_loss: 0.6740 - val_accuracy: 0.5940\n",
            "Epoch 6/25\n",
            "13/13 [==============================] - 11s 901ms/step - loss: 0.6669 - accuracy: 0.6090 - val_loss: 0.6743 - val_accuracy: 0.5940\n",
            "Epoch 7/25\n",
            "13/13 [==============================] - 11s 823ms/step - loss: 0.6667 - accuracy: 0.6090 - val_loss: 0.6739 - val_accuracy: 0.5940\n",
            "Epoch 8/25\n",
            "13/13 [==============================] - 16s 1s/step - loss: 0.6667 - accuracy: 0.6090 - val_loss: 0.6740 - val_accuracy: 0.5940\n",
            "Epoch 9/25\n",
            "13/13 [==============================] - 12s 934ms/step - loss: 0.6666 - accuracy: 0.6090 - val_loss: 0.6739 - val_accuracy: 0.5940\n",
            "Epoch 10/25\n",
            "13/13 [==============================] - 7s 580ms/step - loss: 0.6666 - accuracy: 0.6090 - val_loss: 0.6740 - val_accuracy: 0.5940\n",
            "Epoch 11/25\n",
            "13/13 [==============================] - 15s 1s/step - loss: 0.6664 - accuracy: 0.6090 - val_loss: 0.6738 - val_accuracy: 0.5940\n",
            "Epoch 12/25\n",
            "13/13 [==============================] - 7s 554ms/step - loss: 0.6668 - accuracy: 0.6090 - val_loss: 0.6740 - val_accuracy: 0.5940\n",
            "Epoch 13/25\n",
            "13/13 [==============================] - 14s 1s/step - loss: 0.6666 - accuracy: 0.6090 - val_loss: 0.6741 - val_accuracy: 0.5940\n",
            "Epoch 14/25\n",
            "13/13 [==============================] - 8s 577ms/step - loss: 0.6664 - accuracy: 0.6090 - val_loss: 0.6736 - val_accuracy: 0.5940\n",
            "Epoch 15/25\n",
            "13/13 [==============================] - 11s 887ms/step - loss: 0.6663 - accuracy: 0.6090 - val_loss: 0.6738 - val_accuracy: 0.5940\n",
            "Epoch 16/25\n",
            "13/13 [==============================] - 11s 781ms/step - loss: 0.6663 - accuracy: 0.6090 - val_loss: 0.6736 - val_accuracy: 0.5940\n",
            "Epoch 17/25\n",
            "13/13 [==============================] - 9s 704ms/step - loss: 0.6664 - accuracy: 0.6090 - val_loss: 0.6737 - val_accuracy: 0.5940\n",
            "Epoch 18/25\n",
            "13/13 [==============================] - 13s 1s/step - loss: 0.6662 - accuracy: 0.6090 - val_loss: 0.6739 - val_accuracy: 0.5940\n",
            "Epoch 19/25\n",
            "13/13 [==============================] - 7s 547ms/step - loss: 0.6662 - accuracy: 0.6090 - val_loss: 0.6736 - val_accuracy: 0.5940\n",
            "Epoch 20/25\n",
            "13/13 [==============================] - 15s 1s/step - loss: 0.6663 - accuracy: 0.6090 - val_loss: 0.6739 - val_accuracy: 0.5940\n",
            "Epoch 21/25\n",
            "13/13 [==============================] - 7s 550ms/step - loss: 0.6663 - accuracy: 0.6090 - val_loss: 0.6736 - val_accuracy: 0.5940\n",
            "Epoch 22/25\n",
            "13/13 [==============================] - 14s 1s/step - loss: 0.6663 - accuracy: 0.6090 - val_loss: 0.6737 - val_accuracy: 0.5940\n",
            "Epoch 23/25\n",
            "13/13 [==============================] - 16s 1s/step - loss: 0.6664 - accuracy: 0.6090 - val_loss: 0.6738 - val_accuracy: 0.5940\n",
            "Epoch 24/25\n",
            "13/13 [==============================] - 14s 1s/step - loss: 0.6664 - accuracy: 0.6090 - val_loss: 0.6738 - val_accuracy: 0.5940\n",
            "Epoch 25/25\n",
            "13/13 [==============================] - 9s 603ms/step - loss: 0.6663 - accuracy: 0.6090 - val_loss: 0.6738 - val_accuracy: 0.5940\n"
          ]
        }
      ]
    },
    {
      "cell_type": "markdown",
      "source": [
        "Evaluate the model"
      ],
      "metadata": {
        "id": "83VN9sxcb6YB"
      }
    },
    {
      "cell_type": "code",
      "source": [
        "loss, accuracy = model.evaluate(padded_val, val_labels_onehot)\n",
        "print(f'Test accuracy: {accuracy:.3f}')"
      ],
      "metadata": {
        "colab": {
          "base_uri": "https://localhost:8080/"
        },
        "id": "ehh708Gob6-E",
        "outputId": "383ed962-229b-4407-e479-2479dc599042"
      },
      "execution_count": null,
      "outputs": [
        {
          "output_type": "stream",
          "name": "stdout",
          "text": [
            "49/49 [==============================] - 5s 94ms/step - loss: 0.6738 - accuracy: 0.5940\n",
            "Test accuracy: 0.594\n"
          ]
        }
      ]
    },
    {
      "cell_type": "markdown",
      "source": [
        "Bidirectional LSTM"
      ],
      "metadata": {
        "id": "cASHR974RB1D"
      }
    },
    {
      "cell_type": "code",
      "source": [
        "from tensorflow.keras.layers import Bidirectional\n",
        "\n",
        "# Define the Bidirectional LSTM model\n",
        "model = Sequential()\n",
        "model.add(Embedding(input_dim=3000, output_dim=300, input_length=max_length, weights=[embedding_matrix], trainable=False))\n",
        "model.add(Bidirectional(LSTM(units=128, dropout=0.2, recurrent_dropout=0.2)))\n",
        "model.add(Dense(num_classes, activation='softmax'))\n",
        "\n",
        "# Compile the model\n",
        "model.compile(loss='categorical_crossentropy', optimizer='adam', metrics=['accuracy'])\n",
        "\n",
        "# Train the model\n",
        "history = model.fit(padded_train, train_labels_onehot, batch_size=batch_size, epochs=epochs, validation_data=(padded_val, val_labels_onehot))\n",
        "\n",
        "# Evaluate the model\n",
        "loss, accuracy = model.evaluate(padded_val, val_labels_onehot)\n",
        "print(f'Test accuracy: {accuracy:.3f}')"
      ],
      "metadata": {
        "colab": {
          "base_uri": "https://localhost:8080/"
        },
        "id": "Ea007OLdRVjd",
        "outputId": "9a129ee3-72b4-4048-dccc-aba077bf26f7"
      },
      "execution_count": null,
      "outputs": [
        {
          "output_type": "stream",
          "name": "stderr",
          "text": [
            "WARNING:tensorflow:Layer lstm_1 will not use cuDNN kernels since it doesn't meet the criteria. It will use a generic GPU kernel as fallback when running on GPU.\n",
            "WARNING:tensorflow:Layer lstm_1 will not use cuDNN kernels since it doesn't meet the criteria. It will use a generic GPU kernel as fallback when running on GPU.\n",
            "WARNING:tensorflow:Layer lstm_1 will not use cuDNN kernels since it doesn't meet the criteria. It will use a generic GPU kernel as fallback when running on GPU.\n"
          ]
        },
        {
          "output_type": "stream",
          "name": "stdout",
          "text": [
            "Epoch 1/25\n",
            "13/13 [==============================] - 29s 2s/step - loss: 0.6779 - accuracy: 0.6060 - val_loss: 0.6744 - val_accuracy: 0.5940\n",
            "Epoch 2/25\n",
            "13/13 [==============================] - 18s 1s/step - loss: 0.6686 - accuracy: 0.6074 - val_loss: 0.6743 - val_accuracy: 0.5933\n",
            "Epoch 3/25\n",
            "13/13 [==============================] - 26s 2s/step - loss: 0.6682 - accuracy: 0.6084 - val_loss: 0.6748 - val_accuracy: 0.5933\n",
            "Epoch 4/25\n",
            "13/13 [==============================] - 22s 2s/step - loss: 0.6678 - accuracy: 0.6085 - val_loss: 0.6742 - val_accuracy: 0.5933\n",
            "Epoch 5/25\n",
            "13/13 [==============================] - 21s 2s/step - loss: 0.6674 - accuracy: 0.6088 - val_loss: 0.6745 - val_accuracy: 0.5933\n",
            "Epoch 6/25\n",
            "13/13 [==============================] - 21s 2s/step - loss: 0.6681 - accuracy: 0.6088 - val_loss: 0.6739 - val_accuracy: 0.5940\n",
            "Epoch 7/25\n",
            "13/13 [==============================] - 19s 2s/step - loss: 0.6669 - accuracy: 0.6090 - val_loss: 0.6743 - val_accuracy: 0.5940\n",
            "Epoch 8/25\n",
            "13/13 [==============================] - 18s 1s/step - loss: 0.6667 - accuracy: 0.6090 - val_loss: 0.6739 - val_accuracy: 0.5940\n",
            "Epoch 9/25\n",
            "13/13 [==============================] - 20s 1s/step - loss: 0.6673 - accuracy: 0.6090 - val_loss: 0.6743 - val_accuracy: 0.5940\n",
            "Epoch 10/25\n",
            "13/13 [==============================] - 21s 2s/step - loss: 0.6669 - accuracy: 0.6090 - val_loss: 0.6741 - val_accuracy: 0.5940\n",
            "Epoch 11/25\n",
            "13/13 [==============================] - 24s 2s/step - loss: 0.6667 - accuracy: 0.6090 - val_loss: 0.6736 - val_accuracy: 0.5940\n",
            "Epoch 12/25\n",
            "13/13 [==============================] - 21s 2s/step - loss: 0.6669 - accuracy: 0.6090 - val_loss: 0.6741 - val_accuracy: 0.5940\n",
            "Epoch 13/25\n",
            "13/13 [==============================] - 18s 1s/step - loss: 0.6665 - accuracy: 0.6090 - val_loss: 0.6738 - val_accuracy: 0.5940\n",
            "Epoch 14/25\n",
            "13/13 [==============================] - 21s 2s/step - loss: 0.6668 - accuracy: 0.6090 - val_loss: 0.6736 - val_accuracy: 0.5940\n",
            "Epoch 15/25\n",
            "13/13 [==============================] - 21s 2s/step - loss: 0.6669 - accuracy: 0.6090 - val_loss: 0.6736 - val_accuracy: 0.5940\n",
            "Epoch 16/25\n",
            "13/13 [==============================] - 21s 2s/step - loss: 0.6664 - accuracy: 0.6090 - val_loss: 0.6740 - val_accuracy: 0.5940\n",
            "Epoch 17/25\n",
            "13/13 [==============================] - 19s 1s/step - loss: 0.6665 - accuracy: 0.6090 - val_loss: 0.6735 - val_accuracy: 0.5940\n",
            "Epoch 18/25\n",
            "13/13 [==============================] - 17s 1s/step - loss: 0.6667 - accuracy: 0.6090 - val_loss: 0.6740 - val_accuracy: 0.5940\n",
            "Epoch 19/25\n",
            "13/13 [==============================] - 19s 1s/step - loss: 0.6663 - accuracy: 0.6090 - val_loss: 0.6737 - val_accuracy: 0.5940\n",
            "Epoch 20/25\n",
            "13/13 [==============================] - 31s 2s/step - loss: 0.6664 - accuracy: 0.6090 - val_loss: 0.6738 - val_accuracy: 0.5940\n",
            "Epoch 21/25\n",
            "13/13 [==============================] - 21s 2s/step - loss: 0.6664 - accuracy: 0.6090 - val_loss: 0.6740 - val_accuracy: 0.5940\n",
            "Epoch 22/25\n",
            "13/13 [==============================] - 17s 1s/step - loss: 0.6662 - accuracy: 0.6090 - val_loss: 0.6736 - val_accuracy: 0.5940\n",
            "Epoch 23/25\n",
            "13/13 [==============================] - 18s 1s/step - loss: 0.6663 - accuracy: 0.6090 - val_loss: 0.6740 - val_accuracy: 0.5940\n",
            "Epoch 24/25\n",
            "13/13 [==============================] - 21s 2s/step - loss: 0.6664 - accuracy: 0.6090 - val_loss: 0.6734 - val_accuracy: 0.5940\n",
            "Epoch 25/25\n",
            "13/13 [==============================] - 22s 2s/step - loss: 0.6665 - accuracy: 0.6090 - val_loss: 0.6741 - val_accuracy: 0.5940\n",
            "49/49 [==============================] - 6s 117ms/step - loss: 0.6741 - accuracy: 0.5940\n",
            "Test accuracy: 0.594\n"
          ]
        }
      ]
    },
    {
      "cell_type": "markdown",
      "source": [
        "GRU"
      ],
      "metadata": {
        "id": "_gCH3D2WTg_U"
      }
    },
    {
      "cell_type": "code",
      "source": [
        "from tensorflow.keras.layers import GRU\n",
        "\n",
        "# Define the GRU model\n",
        "model = Sequential()\n",
        "model.add(Embedding(input_dim=3000, output_dim=300, input_length=max_length, weights=[embedding_matrix], trainable=False))\n",
        "model.add(GRU(units=128, dropout=0.2, recurrent_dropout=0.2))\n",
        "model.add(Dense(num_classes, activation='softmax'))\n",
        "\n",
        "# Compile the model\n",
        "model.compile(loss='categorical_crossentropy', optimizer='adam', metrics=['accuracy'])\n",
        "\n",
        "# Train the model\n",
        "history = model.fit(padded_train, train_labels_onehot, batch_size=batch_size, epochs=epochs, validation_data=(padded_val, val_labels_onehot))\n",
        "\n",
        "# Evaluate the model\n",
        "loss, accuracy = model.evaluate(padded_val, val_labels_onehot)\n",
        "print(f'Test accuracy: {accuracy:.3f}')"
      ],
      "metadata": {
        "colab": {
          "base_uri": "https://localhost:8080/"
        },
        "id": "Wtf1hZByTfnA",
        "outputId": "fd6efe7a-0b52-4fa2-86d2-b6b5a9c5f5c5"
      },
      "execution_count": null,
      "outputs": [
        {
          "output_type": "stream",
          "name": "stderr",
          "text": [
            "WARNING:tensorflow:Layer gru will not use cuDNN kernels since it doesn't meet the criteria. It will use a generic GPU kernel as fallback when running on GPU.\n"
          ]
        },
        {
          "output_type": "stream",
          "name": "stdout",
          "text": [
            "Epoch 1/25\n",
            "13/13 [==============================] - 10s 519ms/step - loss: 0.6770 - accuracy: 0.6072 - val_loss: 0.6777 - val_accuracy: 0.5940\n",
            "Epoch 2/25\n",
            "13/13 [==============================] - 12s 971ms/step - loss: 0.6678 - accuracy: 0.6085 - val_loss: 0.6739 - val_accuracy: 0.5933\n",
            "Epoch 3/25\n",
            "13/13 [==============================] - 8s 596ms/step - loss: 0.6670 - accuracy: 0.6088 - val_loss: 0.6746 - val_accuracy: 0.5940\n",
            "Epoch 4/25\n",
            "13/13 [==============================] - 7s 566ms/step - loss: 0.6669 - accuracy: 0.6088 - val_loss: 0.6741 - val_accuracy: 0.5940\n",
            "Epoch 5/25\n",
            "13/13 [==============================] - 13s 1s/step - loss: 0.6666 - accuracy: 0.6090 - val_loss: 0.6737 - val_accuracy: 0.5940\n",
            "Epoch 6/25\n",
            "13/13 [==============================] - 7s 521ms/step - loss: 0.6666 - accuracy: 0.6090 - val_loss: 0.6744 - val_accuracy: 0.5940\n",
            "Epoch 7/25\n",
            "13/13 [==============================] - 12s 930ms/step - loss: 0.6667 - accuracy: 0.6090 - val_loss: 0.6737 - val_accuracy: 0.5940\n",
            "Epoch 8/25\n",
            "13/13 [==============================] - 9s 671ms/step - loss: 0.6665 - accuracy: 0.6090 - val_loss: 0.6739 - val_accuracy: 0.5940\n",
            "Epoch 9/25\n",
            "13/13 [==============================] - 8s 598ms/step - loss: 0.6664 - accuracy: 0.6090 - val_loss: 0.6737 - val_accuracy: 0.5940\n",
            "Epoch 10/25\n",
            "13/13 [==============================] - 13s 1s/step - loss: 0.6664 - accuracy: 0.6090 - val_loss: 0.6740 - val_accuracy: 0.5940\n",
            "Epoch 11/25\n",
            "13/13 [==============================] - 6s 498ms/step - loss: 0.6664 - accuracy: 0.6090 - val_loss: 0.6737 - val_accuracy: 0.5940\n",
            "Epoch 12/25\n",
            "13/13 [==============================] - 11s 869ms/step - loss: 0.6665 - accuracy: 0.6090 - val_loss: 0.6746 - val_accuracy: 0.5940\n",
            "Epoch 13/25\n",
            "13/13 [==============================] - 10s 706ms/step - loss: 0.6668 - accuracy: 0.6090 - val_loss: 0.6737 - val_accuracy: 0.5940\n",
            "Epoch 14/25\n",
            "13/13 [==============================] - 7s 534ms/step - loss: 0.6665 - accuracy: 0.6090 - val_loss: 0.6737 - val_accuracy: 0.5940\n",
            "Epoch 15/25\n",
            "13/13 [==============================] - 15s 1s/step - loss: 0.6662 - accuracy: 0.6090 - val_loss: 0.6741 - val_accuracy: 0.5940\n",
            "Epoch 16/25\n",
            "13/13 [==============================] - 13s 1s/step - loss: 0.6663 - accuracy: 0.6090 - val_loss: 0.6736 - val_accuracy: 0.5940\n",
            "Epoch 17/25\n",
            "13/13 [==============================] - 10s 828ms/step - loss: 0.6663 - accuracy: 0.6090 - val_loss: 0.6738 - val_accuracy: 0.5940\n",
            "Epoch 18/25\n",
            "13/13 [==============================] - 10s 777ms/step - loss: 0.6662 - accuracy: 0.6090 - val_loss: 0.6737 - val_accuracy: 0.5940\n",
            "Epoch 19/25\n",
            "13/13 [==============================] - 7s 545ms/step - loss: 0.6662 - accuracy: 0.6090 - val_loss: 0.6737 - val_accuracy: 0.5940\n",
            "Epoch 20/25\n",
            "13/13 [==============================] - 14s 1s/step - loss: 0.6665 - accuracy: 0.6090 - val_loss: 0.6736 - val_accuracy: 0.5940\n",
            "Epoch 21/25\n",
            "13/13 [==============================] - 7s 507ms/step - loss: 0.6664 - accuracy: 0.6090 - val_loss: 0.6736 - val_accuracy: 0.5940\n",
            "Epoch 22/25\n",
            "13/13 [==============================] - 10s 769ms/step - loss: 0.6664 - accuracy: 0.6090 - val_loss: 0.6740 - val_accuracy: 0.5940\n",
            "Epoch 23/25\n",
            "13/13 [==============================] - 11s 807ms/step - loss: 0.6662 - accuracy: 0.6090 - val_loss: 0.6736 - val_accuracy: 0.5940\n",
            "Epoch 24/25\n",
            "13/13 [==============================] - 7s 504ms/step - loss: 0.6666 - accuracy: 0.6090 - val_loss: 0.6735 - val_accuracy: 0.5940\n",
            "Epoch 25/25\n",
            "13/13 [==============================] - 13s 1s/step - loss: 0.6666 - accuracy: 0.6090 - val_loss: 0.6739 - val_accuracy: 0.5940\n",
            "49/49 [==============================] - 3s 68ms/step - loss: 0.6739 - accuracy: 0.5940\n",
            "Test accuracy: 0.594\n"
          ]
        }
      ]
    },
    {
      "cell_type": "markdown",
      "source": [
        "Biderectional GRU"
      ],
      "metadata": {
        "id": "PtKK1dJsVmdV"
      }
    },
    {
      "cell_type": "code",
      "source": [
        "from tensorflow.keras.layers import Bidirectional, GRU\n",
        "\n",
        "# Define the Bidirectional GRU model\n",
        "model = Sequential()\n",
        "model.add(Embedding(input_dim=3000, output_dim=300, input_length=max_length, weights=[embedding_matrix], trainable=False))\n",
        "model.add(Bidirectional(GRU(units=128, dropout=0.2, recurrent_dropout=0.2)))\n",
        "model.add(Dense(num_classes, activation='softmax'))\n",
        "\n",
        "# Compile the model\n",
        "model.compile(loss='categorical_crossentropy', optimizer='adam', metrics=['accuracy'])\n",
        "\n",
        "# Train the model\n",
        "history = model.fit(padded_train, train_labels_onehot, batch_size=batch_size, epochs=epochs, validation_data=(padded_val, val_labels_onehot))\n",
        "\n",
        "# Evaluate the model\n",
        "loss, accuracy = model.evaluate(padded_val, val_labels_onehot)\n",
        "print(f'Test accuracy: {accuracy:.3f}')"
      ],
      "metadata": {
        "colab": {
          "base_uri": "https://localhost:8080/"
        },
        "id": "vfx9kSi8Vj1H",
        "outputId": "434b94da-2be2-438a-97df-e4ec86a0ca98"
      },
      "execution_count": null,
      "outputs": [
        {
          "output_type": "stream",
          "name": "stderr",
          "text": [
            "WARNING:tensorflow:Layer gru_1 will not use cuDNN kernels since it doesn't meet the criteria. It will use a generic GPU kernel as fallback when running on GPU.\n",
            "WARNING:tensorflow:Layer gru_1 will not use cuDNN kernels since it doesn't meet the criteria. It will use a generic GPU kernel as fallback when running on GPU.\n",
            "WARNING:tensorflow:Layer gru_1 will not use cuDNN kernels since it doesn't meet the criteria. It will use a generic GPU kernel as fallback when running on GPU.\n"
          ]
        },
        {
          "output_type": "stream",
          "name": "stdout",
          "text": [
            "Epoch 1/25\n",
            "13/13 [==============================] - 26s 2s/step - loss: 0.6746 - accuracy: 0.6071 - val_loss: 0.6772 - val_accuracy: 0.5940\n",
            "Epoch 2/25\n",
            "13/13 [==============================] - 20s 2s/step - loss: 0.6689 - accuracy: 0.6085 - val_loss: 0.6739 - val_accuracy: 0.5933\n",
            "Epoch 3/25\n",
            "13/13 [==============================] - 17s 1s/step - loss: 0.6673 - accuracy: 0.6087 - val_loss: 0.6756 - val_accuracy: 0.5940\n",
            "Epoch 4/25\n",
            "13/13 [==============================] - 23s 2s/step - loss: 0.6671 - accuracy: 0.6088 - val_loss: 0.6739 - val_accuracy: 0.5933\n",
            "Epoch 5/25\n",
            "13/13 [==============================] - 20s 2s/step - loss: 0.6671 - accuracy: 0.6088 - val_loss: 0.6741 - val_accuracy: 0.5940\n",
            "Epoch 6/25\n",
            "13/13 [==============================] - 21s 2s/step - loss: 0.6666 - accuracy: 0.6090 - val_loss: 0.6739 - val_accuracy: 0.5940\n",
            "Epoch 7/25\n",
            "13/13 [==============================] - 17s 1s/step - loss: 0.6666 - accuracy: 0.6090 - val_loss: 0.6738 - val_accuracy: 0.5940\n",
            "Epoch 8/25\n",
            "13/13 [==============================] - 16s 1s/step - loss: 0.6665 - accuracy: 0.6090 - val_loss: 0.6739 - val_accuracy: 0.5940\n",
            "Epoch 9/25\n",
            "13/13 [==============================] - 20s 2s/step - loss: 0.6666 - accuracy: 0.6090 - val_loss: 0.6741 - val_accuracy: 0.5940\n",
            "Epoch 10/25\n",
            "13/13 [==============================] - 21s 2s/step - loss: 0.6664 - accuracy: 0.6090 - val_loss: 0.6737 - val_accuracy: 0.5940\n",
            "Epoch 11/25\n",
            "13/13 [==============================] - 18s 1s/step - loss: 0.6667 - accuracy: 0.6090 - val_loss: 0.6736 - val_accuracy: 0.5940\n",
            "Epoch 12/25\n",
            "13/13 [==============================] - 16s 1s/step - loss: 0.6667 - accuracy: 0.6090 - val_loss: 0.6737 - val_accuracy: 0.5940\n",
            "Epoch 13/25\n",
            "13/13 [==============================] - 25s 2s/step - loss: 0.6665 - accuracy: 0.6090 - val_loss: 0.6736 - val_accuracy: 0.5940\n",
            "Epoch 14/25\n",
            "13/13 [==============================] - 19s 1s/step - loss: 0.6663 - accuracy: 0.6090 - val_loss: 0.6736 - val_accuracy: 0.5940\n",
            "Epoch 15/25\n",
            "13/13 [==============================] - 16s 1s/step - loss: 0.6662 - accuracy: 0.6090 - val_loss: 0.6739 - val_accuracy: 0.5940\n",
            "Epoch 16/25\n",
            "13/13 [==============================] - 19s 1s/step - loss: 0.6664 - accuracy: 0.6090 - val_loss: 0.6736 - val_accuracy: 0.5940\n",
            "Epoch 17/25\n",
            "13/13 [==============================] - 21s 2s/step - loss: 0.6663 - accuracy: 0.6090 - val_loss: 0.6739 - val_accuracy: 0.5940\n",
            "Epoch 18/25\n",
            "13/13 [==============================] - 24s 2s/step - loss: 0.6666 - accuracy: 0.6090 - val_loss: 0.6737 - val_accuracy: 0.5940\n",
            "Epoch 19/25\n",
            "13/13 [==============================] - 19s 2s/step - loss: 0.6668 - accuracy: 0.6090 - val_loss: 0.6740 - val_accuracy: 0.5940\n",
            "Epoch 20/25\n",
            "13/13 [==============================] - 16s 1s/step - loss: 0.6664 - accuracy: 0.6090 - val_loss: 0.6735 - val_accuracy: 0.5940\n",
            "Epoch 21/25\n",
            "13/13 [==============================] - 24s 2s/step - loss: 0.6663 - accuracy: 0.6090 - val_loss: 0.6741 - val_accuracy: 0.5940\n",
            "Epoch 22/25\n",
            "13/13 [==============================] - 22s 2s/step - loss: 0.6664 - accuracy: 0.6090 - val_loss: 0.6737 - val_accuracy: 0.5940\n",
            "Epoch 23/25\n",
            "13/13 [==============================] - 20s 2s/step - loss: 0.6663 - accuracy: 0.6090 - val_loss: 0.6739 - val_accuracy: 0.5940\n",
            "Epoch 24/25\n",
            "13/13 [==============================] - 18s 1s/step - loss: 0.6664 - accuracy: 0.6090 - val_loss: 0.6738 - val_accuracy: 0.5940\n",
            "Epoch 25/25\n",
            "13/13 [==============================] - 16s 1s/step - loss: 0.6663 - accuracy: 0.6090 - val_loss: 0.6737 - val_accuracy: 0.5940\n",
            "49/49 [==============================] - 5s 100ms/step - loss: 0.6737 - accuracy: 0.5940\n",
            "Test accuracy: 0.594\n"
          ]
        }
      ]
    }
  ]
}